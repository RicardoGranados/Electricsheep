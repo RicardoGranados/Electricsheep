{
 "cells": [
  {
   "cell_type": "markdown",
   "metadata": {},
   "source": [
    "- Apatosaurus in little feet.\n",
    "- Easy introduction\n",
    "- Fast Facts with picture\n",
    "- Videos\n",
    "- Vectors\n"
   ]
  },
  {
   "cell_type": "markdown",
   "metadata": {},
   "source": [
    "# Dinofacts: Apatosaurus\n",
    "\n",
    "\n",
    "\n",
    "One of the mos famous dinosaurs. I believe you will not have a clear picture by now of how does it looks an apatosaurus. But after watching the next video I am sure you will feel love about this dinosaur.\n"
   ]
  },
  {
   "cell_type": "code",
   "execution_count": 1,
   "metadata": {
    "scrolled": true
   },
   "outputs": [
    {
     "data": {
      "text/html": [
       "<iframe width=\"560\" height=\"315\" src=\"https://www.youtube.com/embed/yOUYJlL4EaA\" frameborder=\"0\" allow=\"autoplay; encrypted-media\" allowfullscreen></iframe>"
      ],
      "text/plain": [
       "<IPython.core.display.HTML object>"
      ]
     },
     "execution_count": 1,
     "metadata": {},
     "output_type": "execute_result"
    }
   ],
   "source": [
    "from IPython.display import HTML\n",
    "# Youtube\n",
    "HTML('<iframe width=\"560\" height=\"315\" src=\"https://www.youtube.com/embed/yOUYJlL4EaA\" frameborder=\"0\" allow=\"autoplay; encrypted-media\" allowfullscreen></iframe>')\n"
   ]
  },
  {
   "cell_type": "markdown",
   "metadata": {},
   "source": [
    "Ok by now if you are old enough, like me, to have seen this movie, you will have remembered one of the best movies ever, also the saddest. A movie where the names of Steven Spielberg, George Lucas appear and make it a really nice dinosaur movie. But one of the true reasons that this movie has to be incredible is that James Horner was in charge of the Soundtrack [[1](https://en.wikipedia.org/wiki/The_Land_Before_Time#Soundtrack)].\n",
    "If you didn't knew, The 'longneck' called Littlefoot, was an apatosaurus. Apatosaurus means \"deceptive lizard\". This dinosaur received also the name of Bronotsaurus. \n",
    "\n",
    "<a title=\"By Source: Tadek Kurpaski from London, Poland Derivative: User:MathKnight (File:Louisae.jpg) [CC BY-SA 3.0 (https://creativecommons.org/licenses/by-sa/3.0)], via Wikimedia Commons\" href=\"https://commons.wikimedia.org/wiki/File%3AApatosaurus-louisae-Wikipedia-1.jpg\"><img width=\"512\" alt=\"Apatosaurus-louisae-Wikipedia-1\" src=\"https://upload.wikimedia.org/wikipedia/commons/thumb/a/a3/Apatosaurus-louisae-Wikipedia-1.jpg/512px-Apatosaurus-louisae-Wikipedia-1.jpg\"/></a>\n",
    "By Source: Tadek Kurpaski from London, PolandDerivative: User:MathKnight (File:Louisae.jpg) [<a href=\"https://creativecommons.org/licenses/by-sa/3.0\">CC BY-SA 3.0</a>], <a href=\"https://commons.wikimedia.org/wiki/File%3AApatosaurus-louisae-Wikipedia-1.jpg\">via Wikimedia Commons</a></th>\n",
    "\n",
    "The paleontologist Othniel C. Marsh, discovered the fossils of a dinosaur which he named *Apatosaurus Ajax* in 1877. After that he discovered a new fossil larger and more complete, which he called the *Brontosaurus Excelsus*. Here is when this name began to spread, for example the pet of **Fred Flinstone** was a Brontosaurus. But then a review of this fossils revealed that the differences were not enough to consider two different genus.\n",
    "Nowadays there are still different opinions if this differences are sufficient to consider to keep the name Brontosaurus [[2](http://www.sciencemag.org/news/2015/04/brontosaurus-name-resurrected-new-dino-family-tree)].\n",
    "\n",
    "There is a great debate about the flexibility of the neck. Some studies say that the neck could not be flexible [[3](http://science.sciencemag.org/content/284/5415/798)]. And others say that it could be as a swan neck [[4](https://www.app.pan.pl/article/item/app54-213.html)]. Other asrticles about this [[5](http://science.sciencemag.org/content/348/6231/168)].\n",
    "\n",
    "## Facts\n",
    "- Time: Late Jurassic (152 to 151 million years ago)\n",
    "- Scientific name: Apatosaurus\n",
    "- Corporal mass: 16.000 – 22.000 kg\n",
    "- Longitude: 21 – 23 m\n",
    "- Weight: 20 tons\n",
    "- Velocity: 20 km/h (Maximum)\n",
    "- Food: herbivorous\n",
    "- Filmography:\n",
    "     - The land before land\n",
    "\n",
    "\n",
    "\n",
    "## Size comparition\n",
    "<a title=\"By Matt Martyniuk (Own work) [CC BY-SA 4.0-3.0-2.5-2.0-1.0 (https://creativecommons.org/licenses/by-sa/4.0-3.0-2.5-2.0-1.0)], via Wikimedia Commons\" href=\"https://commons.wikimedia.org/wiki/File%3AApatosaurus_scale_mmartyniuk_wiki.png\"><img width=\"512\" alt=\"Apatosaurus scale mmartyniuk wiki\" src=\"https://upload.wikimedia.org/wikipedia/commons/thumb/2/2b/Apatosaurus_scale_mmartyniuk_wiki.png/512px-Apatosaurus_scale_mmartyniuk_wiki.png\"/></a>\n",
    "By Matt Martyniuk (Own work) [<a href=\"https://creativecommons.org/licenses/by-sa/4.0-3.0-2.5-2.0-1.0\">CC BY-SA 4.0-3.0-2.5-2.0-1.0</a>], <a href=\"https://commons.wikimedia.org/wiki/File%3AApatosaurus_scale_mmartyniuk_wiki.png\">via Wikimedia Commons</a>\n",
    "\n",
    "## The land before time Soundtrack\n",
    "Obviously I will not let you go before suggesting to you to hear this soundtrack, so here you go.\n",
    "[Spotify Link](https://open.spotify.com/track/6YJpvKKIiEVTxPNlaZrFev)\n",
    "\n",
    "## Vector\n",
    "https://www.vecteezy.com/vector-art/97612-dinosaur-icons \n",
    "Free Vector Art by <a href=\"https://www.vecteezy.com\">Vecteezy.com</a>\n",
    "\n",
    "## References\n",
    "[1] https://en.wikipedia.org/wiki/The_Land_Before_Time#Soundtrack\n",
    "[2] https://www.livescience.com/25093-apatosaurus.html"
   ]
  },
  {
   "cell_type": "code",
   "execution_count": null,
   "metadata": {},
   "outputs": [],
   "source": []
  }
 ],
 "metadata": {
  "kernelspec": {
   "display_name": "Python 3",
   "language": "python",
   "name": "python3"
  },
  "language_info": {
   "codemirror_mode": {
    "name": "ipython",
    "version": 3
   },
   "file_extension": ".py",
   "mimetype": "text/x-python",
   "name": "python",
   "nbconvert_exporter": "python",
   "pygments_lexer": "ipython3",
   "version": "3.6.4"
  }
 },
 "nbformat": 4,
 "nbformat_minor": 2
}
